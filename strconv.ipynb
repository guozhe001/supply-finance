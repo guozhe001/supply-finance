{
 "cells": [
  {
   "cell_type": "code",
   "execution_count": 2,
   "metadata": {},
   "outputs": [
    {
     "name": "stdout",
     "output_type": "stream",
     "text": [
      "{'encoding': 'utf-8', 'confidence': 0.99, 'language': ''}\n",
      "message:\"转账金额=300,不能超过资产的金额=200\"\n"
     ]
    }
   ],
   "source": [
    "import chardet\n",
    "a = b'''message:\"\\350\\275\\254\\350\\264\\246\\351\\207\\221\\351\\242\\235=300,\\344\\270\\215\\350\\203\\275\\350\\266\\205\\350\\277\\207\\350\\265\\204\\344\\272\\247\\347\\232\\204\\351\\207\\221\\351\\242\\235=200\"'''\n",
    "#判断当前字符串的格式（编码类型）\n",
    "fencoding = chardet.detect(a)  \n",
    "print(fencoding)\n",
    "#编码类型为打印出来的fencoding编码类型\n",
    "a = a.decode('utf-8')\n",
    "print(a)"
   ]
  },
  {
   "cell_type": "code",
   "execution_count": null,
   "metadata": {},
   "outputs": [],
   "source": []
  },
  {
   "cell_type": "code",
   "execution_count": null,
   "metadata": {},
   "outputs": [],
   "source": []
  }
 ],
 "metadata": {
  "kernelspec": {
   "display_name": "Python 3",
   "language": "python",
   "name": "python3"
  },
  "language_info": {
   "codemirror_mode": {
    "name": "ipython",
    "version": 3
   },
   "file_extension": ".py",
   "mimetype": "text/x-python",
   "name": "python",
   "nbconvert_exporter": "python",
   "pygments_lexer": "ipython3",
   "version": "3.7.4"
  }
 },
 "nbformat": 4,
 "nbformat_minor": 2
}
